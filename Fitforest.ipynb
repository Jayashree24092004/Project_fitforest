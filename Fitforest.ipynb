{
  "nbformat": 4,
  "nbformat_minor": 0,
  "metadata": {
    "colab": {
      "provenance": [],
      "authorship_tag": "ABX9TyPOVn9mpxD3cQWf7sPsaElT",
      "include_colab_link": true
    },
    "kernelspec": {
      "name": "python3",
      "display_name": "Python 3"
    },
    "language_info": {
      "name": "python"
    }
  },
  "cells": [
    {
      "cell_type": "markdown",
      "metadata": {
        "id": "view-in-github",
        "colab_type": "text"
      },
      "source": [
        "<a href=\"https://colab.research.google.com/github/Jayashree24092004/Project_fitforest/blob/main/Fitforest.ipynb\" target=\"_parent\"><img src=\"https://colab.research.google.com/assets/colab-badge.svg\" alt=\"Open In Colab\"/></a>"
      ]
    },
    {
      "cell_type": "code",
      "source": [
        "# ================================\n",
        "# 🌿 FitForest AI - Colab Version\n",
        "# ================================\n",
        "\n",
        "import pandas as pd\n",
        "from sklearn.model_selection import train_test_split\n",
        "from sklearn.tree import DecisionTreeClassifier\n",
        "from sklearn.preprocessing import LabelEncoder\n",
        "from sklearn.metrics import accuracy_score\n",
        "import joblib\n",
        "import time\n",
        "import matplotlib.pyplot as plt\n",
        "from IPython.display import clear_output, display\n",
        "\n",
        "# ------------------------\n",
        "# STEP 1: Train the model\n",
        "# ------------------------\n",
        "\n",
        "print(\"📥 Loading user data...\")\n",
        "df = pd.read_csv('user_profiles.csv')\n",
        "\n",
        "# Encode categorical variables\n",
        "le_gender = LabelEncoder().fit(df['Gender'])\n",
        "le_goal = LabelEncoder().fit(df['Goal'])\n",
        "\n",
        "X = pd.DataFrame({\n",
        "    'Age': df['Age'],\n",
        "    'Gender': le_gender.transform(df['Gender']),\n",
        "    'Goal': le_goal.transform(df['Goal'])\n",
        "})\n",
        "y = df['PlanID']\n",
        "\n",
        "# Train-test split\n",
        "X_train, X_test, y_train, y_test = train_test_split(X, y, test_size=0.2, random_state=42)\n",
        "\n",
        "# Train Decision Tree Classifier\n",
        "model = DecisionTreeClassifier(random_state=42)\n",
        "model.fit(X_train, y_train)\n",
        "\n",
        "# Accuracy check\n",
        "y_pred = model.predict(X_test)\n",
        "acc = accuracy_score(y_test, y_pred)\n",
        "print(f\"✅ Model trained. Accuracy: {acc:.2f}\")\n",
        "\n",
        "# Save model & encoders\n",
        "joblib.dump(model, 'model.pkl')\n",
        "joblib.dump({'le_gender': le_gender, 'le_goal': le_goal}, 'encoders.pkl')\n",
        "print(\"💾 Model and encoders saved.\")\n",
        "\n"
      ],
      "metadata": {
        "colab": {
          "base_uri": "https://localhost:8080/"
        },
        "id": "0fDMUFd4td_E",
        "outputId": "8ba1ad23-9e62-483b-ce3f-983d0d4e6614"
      },
      "execution_count": 9,
      "outputs": [
        {
          "output_type": "stream",
          "name": "stdout",
          "text": [
            "📥 Loading user data...\n",
            "✅ Model trained. Accuracy: 1.00\n",
            "💾 Model and encoders saved.\n"
          ]
        }
      ]
    },
    {
      "cell_type": "code",
      "source": [
        "# ------------------------\n",
        "# STEP 2: AI Fitness App\n",
        "# ------------------------\n",
        "\n",
        "# Reload model & encoders\n",
        "model = joblib.load(\"model.pkl\")\n",
        "encoders = joblib.load(\"encoders.pkl\")\n",
        "le_gender = encoders['le_gender']\n",
        "le_goal = encoders['le_goal']\n",
        "\n",
        "# Load datasets\n",
        "meals = pd.read_csv(\"meals.csv\").set_index(\"PlanID\")\n",
        "workouts = pd.read_csv(\"workouts.csv\").set_index(\"PlanID\")\n",
        "\n",
        "# Track progress\n",
        "trees_planted = 0\n",
        "history = []\n",
        "\n",
        "while True:\n",
        "    print(\"\\n🌿 Welcome to FitForest AI 🌿\")\n",
        "    try:\n",
        "        age = int(input(\"Enter Age (10-80): \"))\n",
        "        gender = input(\"Enter Gender (Male/Female): \").capitalize()\n",
        "        goal = input(\"Enter Goal (lose weight / gain muscle / stay fit): \").lower()\n",
        "        time_min = int(input(\"Enter Workout Time (minutes): \"))\n",
        "    except ValueError:\n",
        "        print(\"❌ Invalid input, try again.\")\n",
        "        continue\n",
        "\n",
        "    # Encode input\n",
        "    input_data = pd.DataFrame({\"Age\": [age], \"Gender\": [gender], \"Goal\": [goal]})\n",
        "    input_data[\"Gender\"] = le_gender.transform(input_data[\"Gender\"])\n",
        "    input_data[\"Goal\"] = le_goal.transform(input_data[\"Goal\"])\n",
        "\n",
        "    # Predict PlanID\n",
        "    plan_id = model.predict(input_data)[0]\n",
        "\n",
        "    # Safe lookup\n",
        "    meal = meals[\"Meal\"].get(plan_id, \"No meal found\")\n",
        "    workout = workouts[\"Workout\"].get(plan_id, \"No workout found\")\n",
        "\n",
        "    # Show plan (BEFORE countdown so it's not cleared)\n",
        "    print(\"\\n✅ Your AI Fitness Plan\")\n",
        "    print(f\"🔮 PlanID: {plan_id}\")\n",
        "    print(f\"🍱 Meal: {meal}\")\n",
        "    print(f\"💪 Workout: {workout}\")\n",
        "    print(f\"⏱ Duration: {time_min} minutes\")\n",
        "\n",
        "    # Timer (short demo version: 10 sec, replace with time_min*60 for real)\n",
        "    print(\"\\n⏳ Starting Workout Timer...\")\n",
        "    for remaining in range(10, 0, -1):\n",
        "        mins, secs = divmod(remaining, 60)\n",
        "        clear_output(wait=True)\n",
        "        # Re-display plan + countdown\n",
        "        print(\"\\n✅ Your AI Fitness Plan\")\n",
        "        print(f\"🔮 PlanID: {plan_id}\")\n",
        "        print(f\"🍱 Meal: {meal}\")\n",
        "        print(f\"💪 Workout: {workout}\")\n",
        "        print(f\"⏱ Duration: {time_min} minutes\")\n",
        "        print(f\"\\n⏳ Time Left: {mins:02d}:{secs:02d}\")\n",
        "        time.sleep(1)\n",
        "\n",
        "    # Finish\n",
        "    print(\"\\n🏁 Workout Completed! 🌱 A tree has been planted!\")\n",
        "    trees_planted += 1\n",
        "    history.append(trees_planted)\n",
        "\n",
        "    # Graph progress (with meal & workout info kept visible)\n",
        "    plt.figure(figsize=(6,4))\n",
        "    plt.plot(range(1, trees_planted+1), history, marker=\"o\", linestyle=\"-\", color=\"green\")\n",
        "    plt.xlabel(\"Workout Sessions\")\n",
        "    plt.ylabel(\"Trees Planted 🌳\")\n",
        "    plt.title(\"Your Virtual Forest Growth\")\n",
        "    plt.grid(True)\n",
        "    plt.show()\n",
        "\n",
        "    # Continue?\n",
        "    cont = input(\"\\nDo you want to create another plan? (yes/no): \").lower()\n",
        "    if cont != \"yes\":\n",
        "        break\n",
        "\n",
        "print(\"\\n🌲 Final Forest Progress 🌲\")\n",
        "print(f\"Total Trees Planted: {trees_planted}\")"
      ],
      "metadata": {
        "colab": {
          "base_uri": "https://localhost:8080/",
          "height": 644
        },
        "id": "XT57rJnuuOhN",
        "outputId": "fbf34347-a861-4d6c-c4a6-82c6d26a4b2e"
      },
      "execution_count": null,
      "outputs": [
        {
          "output_type": "stream",
          "name": "stdout",
          "text": [
            "\n",
            "✅ Your AI Fitness Plan\n",
            "🔮 PlanID: 2\n",
            "🍱 Meal: Veg thali (balanced) + fruit bowl + curd (maintenance)\n",
            "💪 Workout: Cardio + core: brisk walk/jog + planks + lunges\n",
            "⏱ Duration: 1 minutes\n",
            "\n",
            "⏳ Time Left: 00:01\n",
            "\n",
            "🏁 Workout Completed! 🌱 A tree has been planted!\n"
          ]
        },
        {
          "output_type": "stream",
          "name": "stderr",
          "text": [
            "/usr/local/lib/python3.12/dist-packages/IPython/core/pylabtools.py:151: UserWarning: Glyph 127795 (\\N{DECIDUOUS TREE}) missing from font(s) DejaVu Sans.\n",
            "  fig.canvas.print_figure(bytes_io, **kw)\n"
          ]
        },
        {
          "output_type": "display_data",
          "data": {
            "text/plain": [
              "<Figure size 600x400 with 1 Axes>"
            ],
            "image/png": "[encoded data removed]"
          },
          "metadata": {}
        }
      ]
    },
    {
      "cell_type": "code",
      "source": [],
      "metadata": {
        "id": "UdLnjXW8uPwo"
      },
      "execution_count": null,
      "outputs": []
    }
  ]
}